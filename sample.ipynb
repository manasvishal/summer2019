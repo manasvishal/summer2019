{
 "metadata": {
  "name": "",
  "signature": "sha256:3ba716a46170cebd19acd047e2230b3c19f1a53615c4a9a4005d1f8c78d65b8c"
 },
 "nbformat": 3,
 "nbformat_minor": 0,
 "worksheets": [
  {
   "cells": [
    {
     "cell_type": "code",
     "collapsed": false,
     "input": [
      "import numpy as np\n",
      "import matplotlib.pyplot as plt\n",
      "from matplotlib import animation\n",
      "from matplotlib.patches import Ellipse\n",
      "\n",
      "fig = plt.figure()\n",
      "fig.set_dpi(80)\n",
      "\n",
      "\n",
      "ax = plt.axes(xlim=(-1.5, 1.5), ylim=(-1.5, 1.5), aspect='equal', xlabel='<x>', ylabel='<p> (h_bar * units)', title='Variation of <x> with <p> (psi_A)')\n",
      "\n",
      "ellipse = Ellipse(xy=((1/np.sqrt(2)), 0), width=0.001, height=1, fc='grey', ec='none',alpha =0.24)\n",
      "\n",
      "def init():\n",
      "    ax.add_patch(ellipse)\n",
      "    return ellipse,\n",
      "\n",
      "def animate(i):\n",
      "    x, y = ellipse.center\n",
      "    x = (1/np.sqrt(2)) * np.cos(np.radians(i))\n",
      "    y = (1/np.sqrt(2)) * np.sin(np.radians(i))\n",
      "    ellipse.center = (x, y)\n",
      "    a = (1/np.sqrt(2)) * np.sin(np.radians(i))\n",
      "    b = (1/np.sqrt(2)) * np.cos(np.radians(i))\n",
      "    ellipse.width = a\n",
      "    ellipse.height = b\n",
      "    return ellipse,\n",
      "\n",
      "anim = animation.FuncAnimation(fig, animate,init_func=init,frames=360,interval=10)\n",
      "circle1 = plt.Circle((0, 0), 1/np.sqrt(2), fill=0)\n",
      "                              \n",
      "#circle = Circle((0,0), 1/np.sqrt(2), fc='none')\n",
      "#ax.add_patch(circle)\n",
      "ax.add_patch(circle1)\n",
      "\n",
      "#fdanim.save('psi_A.mp4', fps=30, extra_args=['-vcodec', 'h264', '-pix_fmt', 'yuv420p'])\n",
      "\n",
      "plt.show()\n"
     ],
     "language": "python",
     "metadata": {},
     "outputs": []
    },
    {
     "cell_type": "code",
     "collapsed": false,
     "input": [],
     "language": "python",
     "metadata": {},
     "outputs": []
    }
   ],
   "metadata": {}
  }
 ]
}